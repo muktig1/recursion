{
 "cells": [
  {
   "cell_type": "code",
   "execution_count": null,
   "id": "f1f19f29-8bc4-4504-9e33-73bffe4e7076",
   "metadata": {},
   "outputs": [],
   "source": [
    "Q.1 Can you explain the logic and working of the Tower of Hanoi algorithm by writing a Java program?\n",
    "How does the recursion work, and how are the movements of disks between rods accomplished?"
   ]
  },
  {
   "cell_type": "code",
   "execution_count": null,
   "id": "8b49a7e2-5bb0-4998-ae2d-c03a7c363fd7",
   "metadata": {},
   "outputs": [],
   "source": [
    "public class TowerOfHanoi {\n",
    "    public static void main(String[] args) {\n",
    "        int n = 3; // Number of disks\n",
    "        char sourceRod = 'A';\n",
    "        char auxiliaryRod = 'B';\n",
    "        char destinationRod = 'C';\n",
    "\n",
    "        System.out.println(\"Steps to solve Tower of Hanoi with \" + n + \" disks:\");\n",
    "        towerOfHanoi(n, sourceRod, auxiliaryRod, destinationRod);\n",
    "    }\n",
    "\n",
    "    static void towerOfHanoi(int n, char source, char auxiliary, char destination) {\n",
    "        if (n == 1) {\n",
    "            System.out.println(\"Move disk 1 from \" + source + \" to \" + destination);\n",
    "            return;\n",
    "        }\n",
    "\n",
    "        // Move n-1 disks from source to auxiliary\n",
    "        towerOfHanoi(n - 1, source, destination, auxiliary);\n",
    "\n",
    "        // Move the nth disk from source to destination\n",
    "        System.out.println(\"Move disk \" + n + \" from \" + source + \" to \" + destination);\n",
    "\n",
    "        // Move n-1 disks from auxiliary to destination\n",
    "        towerOfHanoi(n - 1, auxiliary, source, destination);\n",
    "    }\n",
    "}\n"
   ]
  },
  {
   "cell_type": "code",
   "execution_count": null,
   "id": "819ca001-d8bf-4eb4-ac78-352b3a029aa8",
   "metadata": {},
   "outputs": [],
   "source": [
    "Certainly! The Tower of Hanoi is a classic problem in computer science and mathematics that involves moving a stack of disks from one rod to another,\n",
    "subject to the following constraints:\n",
    "\n",
    "1.Only one disk can be moved at a time.\n",
    "2.Each move consists of taking the upper disk from one of the stacks and placing it on top of another stack or on an empty rod.\n",
    "3.No disk may be placed on top of a smaller disk.\n",
    "In this program, the towerOfHanoi method is called recursively to solve the problem. The base case is when there is only one disk (n == 1), where\n",
    "we directly move the disk from the source rod to the destination rod. The recursive steps handle the movement of n-1 disks between the source,\n",
    "auxiliary, and destination rods.\n",
    "\n",
    "Recursion works by breaking down a larger problem into smaller, more manageable subproblems. In the case of Tower of Hanoi, the problem of moving \n",
    "n disks is broken down into three simpler subproblems:\n",
    "\n",
    "1.Move n-1 disks from the source rod to an auxiliary rod.\n",
    "2.Move the nth disk from the source rod to the destination rod.\n",
    "3.Move the n-1 disks from the auxiliary rod to the destination rod.\n",
    "This process continues recursively until the base case is reached (n == 1), at which point the algorithm directly performs the required move.\n",
    "The movements of disks are accomplished through the recursive calls, ensuring that the constraints of the Tower of Hanoi problem are satisfied at each step."
   ]
  },
  {
   "cell_type": "code",
   "execution_count": null,
   "id": "b3795bde-92c5-475d-a607-e32e937acce9",
   "metadata": {},
   "outputs": [],
   "source": [
    "Q.2 Given two strings word1 and word2, return the minimum number of operations required to convert word1\n",
    "to word2.\n",
    "Example 1:\n",
    "Input: word1 = \"horse\", word2 = \"ros\"\n",
    "Output: 3\n",
    "Explanation:\n",
    "horse -> rorse (replace 'h' with 'r')\n",
    "rorse -> rose (remove 'r')\n",
    "rose -> ros (remove 'e')"
   ]
  },
  {
   "cell_type": "code",
   "execution_count": null,
   "id": "0cf8a3ab-4f81-46b0-9ce6-a7ab280486f0",
   "metadata": {},
   "outputs": [],
   "source": [
    "public class EditDistance {\n",
    "    public static void main(String[] args) {\n",
    "        String word1 = \"horse\";\n",
    "        String word2 = \"ros\";\n",
    "\n",
    "        int result = minDistance(word1, word2);\n",
    "        System.out.println(\"Minimum number of operations: \" + result);\n",
    "    }\n",
    "\n",
    "    public static int minDistance(String word1, String word2) {\n",
    "        int m = word1.length();\n",
    "        int n = word2.length();\n",
    "\n",
    "        // Create a 2D array to store minimum operations\n",
    "        int[][] dp = new int[m + 1][n + 1];\n",
    "\n",
    "        // Initialize the base cases\n",
    "        for (int i = 0; i <= m; i++) {\n",
    "            dp[i][0] = i;  // Operations needed to convert word1[0...i-1] to an empty string\n",
    "        }\n",
    "\n",
    "        for (int j = 0; j <= n; j++) {\n",
    "            dp[0][j] = j;  // Operations needed to convert an empty string to word2[0...j-1]\n",
    "        }\n",
    "\n",
    "        // Fill in the rest of the array using dynamic programming\n",
    "        for (int i = 1; i <= m; i++) {\n",
    "            for (int j = 1; j <= n; j++) {\n",
    "                if (word1.charAt(i - 1) == word2.charAt(j - 1)) {\n",
    "                    dp[i][j] = dp[i - 1][j - 1];\n",
    "                } else {\n",
    "                    dp[i][j] = 1 + Math.min(Math.min(dp[i - 1][j], dp[i][j - 1]), dp[i - 1][j - 1]);\n",
    "                }\n",
    "            }\n",
    "        }\n",
    "\n",
    "        return dp[m][n];\n",
    "    }\n",
    "}\n"
   ]
  },
  {
   "cell_type": "code",
   "execution_count": null,
   "id": "9444d17e-6632-445e-a65c-ad14377799b6",
   "metadata": {},
   "outputs": [],
   "source": [
    "Example 2:\n",
    "Input: word1 = \"intention\", word2 = \"execution\"\n",
    "Output: 5\n",
    "Explanation:\n",
    "intention -> inention (remove 't')\n",
    "inention -> enention (replace 'i' with 'e')\n",
    "enention -> exention (replace 'n' with 'x')\n",
    "exention -> exection (replace 'n' with 'c')\n",
    "exection -> execution (insert 'u')"
   ]
  },
  {
   "cell_type": "code",
   "execution_count": null,
   "id": "3c79d72d-bb05-4a80-90b2-fe76da544971",
   "metadata": {},
   "outputs": [],
   "source": [
    "public class EditDistance {\n",
    "    public static void main(String[] args) {\n",
    "        String word1 = \"intention\";\n",
    "        String word2 = \"execution\";\n",
    "\n",
    "        int result = minDistance(word1, word2);\n",
    "        System.out.println(\"Minimum number of operations: \" + result);\n",
    "    }\n",
    "\n",
    "    public static int minDistance(String word1, String word2) {\n",
    "        int m = word1.length();\n",
    "        int n = word2.length();\n",
    "\n",
    "        // Create a 2D array to store minimum operations\n",
    "        int[][] dp = new int[m + 1][n + 1];\n",
    "\n",
    "        // Initialize the base cases\n",
    "        for (int i = 0; i <= m; i++) {\n",
    "            dp[i][0] = i;  // Operations needed to convert word1[0...i-1] to an empty string\n",
    "        }\n",
    "\n",
    "        for (int j = 0; j <= n; j++) {\n",
    "            dp[0][j] = j;  // Operations needed to convert an empty string to word2[0...j-1]\n",
    "        }\n",
    "\n",
    "        // Fill in the rest of the array using dynamic programming\n",
    "        for (int i = 1; i <= m; i++) {\n",
    "            for (int j = 1; j <= n; j++) {\n",
    "                if (word1.charAt(i - 1) == word2.charAt(j - 1)) {\n",
    "                    dp[i][j] = dp[i - 1][j - 1];\n",
    "                } else {\n",
    "                    dp[i][j] = 1 + Math.min(Math.min(dp[i - 1][j], dp[i][j - 1]), dp[i - 1][j - 1]);\n",
    "                }\n",
    "            }\n",
    "        }\n",
    "\n",
    "        return dp[m][n];\n",
    "    }\n",
    "}\n"
   ]
  },
  {
   "cell_type": "code",
   "execution_count": null,
   "id": "28a444b0-612c-4b89-aed0-c0c6e7f6e586",
   "metadata": {},
   "outputs": [],
   "source": [
    "Q. 3 Print the max value of the array [ 13, 1, -3, 22, 5]."
   ]
  },
  {
   "cell_type": "code",
   "execution_count": null,
   "id": "a78a2683-fcd5-4d9a-a4cb-a3f39eb86de5",
   "metadata": {},
   "outputs": [],
   "source": [
    "import java.util.Arrays;\n",
    "\n",
    "public class MaxValueExample {\n",
    "    public static void main(String[] args) {\n",
    "        int[] array = {13, 1, -3, 22, 5};\n",
    "\n",
    "        // Using Arrays.stream and the max() method\n",
    "        int maxValue = Arrays.stream(array).max().orElseThrow();\n",
    "\n",
    "        System.out.println(\"Maximum value in the array: \" + maxValue);\n",
    "    }\n",
    "}\n"
   ]
  },
  {
   "cell_type": "code",
   "execution_count": null,
   "id": "b1674b15-c0be-4aac-8755-318bdd9c19e8",
   "metadata": {},
   "outputs": [],
   "source": [
    "Maximum value in the array: 22\n"
   ]
  },
  {
   "cell_type": "code",
   "execution_count": null,
   "id": "80c05b56-a9ec-415c-9b26-cb4544752c93",
   "metadata": {},
   "outputs": [],
   "source": [
    "Q.4 Find the sum of the values of the array [92, 23, 15, -20, 10]."
   ]
  },
  {
   "cell_type": "code",
   "execution_count": null,
   "id": "de40a622-9323-4897-b65f-70c64ac00d00",
   "metadata": {},
   "outputs": [],
   "source": [
    "public class SumOfArray {\n",
    "    public static void main(String[] args) {\n",
    "        int[] array = {92, 23, 15, -20, 10};\n",
    "\n",
    "        // Calculate the sum of array elements\n",
    "        int sum = 0;\n",
    "        for (int value : array) {\n",
    "            sum += value;\n",
    "        }\n",
    "\n",
    "        System.out.println(\"Sum of the array elements: \" + sum);\n",
    "    }\n",
    "}\n"
   ]
  },
  {
   "cell_type": "code",
   "execution_count": null,
   "id": "3577a03d-5aac-46e2-a235-e17bfa6a2054",
   "metadata": {},
   "outputs": [],
   "source": [
    "Sum of the array elements: 120\n"
   ]
  },
  {
   "cell_type": "code",
   "execution_count": null,
   "id": "c0b0d193-46f6-408b-986a-5e49298c8c6b",
   "metadata": {},
   "outputs": [],
   "source": [
    "Q.5 Given a number n. Print if it is an armstrong number or not.An armstrong number is a number if the sum\n",
    "of every digit in that number raised to the power of total digits in that number is equal to the number.\n",
    "Example : 153 = 1^3 + 5^3 + 3^3 = 1 + 125 + 27 = 153 hence 153 is an armstrong number. (Easy)\n",
    "Input1 : 153\n",
    "Output1 : Yes"
   ]
  },
  {
   "cell_type": "code",
   "execution_count": null,
   "id": "2ee380e4-35cc-424e-87c5-00e9c22b7ad5",
   "metadata": {},
   "outputs": [],
   "source": [
    "import java.util.Scanner;\n",
    "\n",
    "public class ArmstrongNumber {\n",
    "    public static void main(String[] args) {\n",
    "        Scanner scanner = new Scanner(System.in);\n",
    "\n",
    "        // Input the number\n",
    "        System.out.print(\"Enter a number: \");\n",
    "        int number = scanner.nextInt();\n",
    "\n",
    "        // Check if the number is an Armstrong number\n",
    "        boolean isArmstrong = isArmstrongNumber(number);\n",
    "\n",
    "        // Output the result\n",
    "        if (isArmstrong) {\n",
    "            System.out.println(\"Yes, \" + number + \" is an Armstrong number.\");\n",
    "        } else {\n",
    "            System.out.println(\"No, \" + number + \" is not an Armstrong number.\");\n",
    "        }\n",
    "    }\n",
    "\n",
    "    // Function to check if a number is an Armstrong number\n",
    "    public static boolean isArmstrongNumber(int num) {\n",
    "        int originalNumber = num;\n",
    "        int totalDigits = countDigits(num);\n",
    "        int sum = 0;\n",
    "\n",
    "        while (num > 0) {\n",
    "            int digit = num % 10;\n",
    "            sum += Math.pow(digit, totalDigits);\n",
    "            num /= 10;\n",
    "        }\n",
    "\n",
    "        return sum == originalNumber;\n",
    "    }\n",
    "\n",
    "    // Function to count the number of digits in a number\n",
    "    public static int countDigits(int num) {\n",
    "        int count = 0;\n",
    "        while (num > 0) {\n",
    "            count++;\n",
    "            num /= 10;\n",
    "        }\n",
    "        return count;\n",
    "    }\n",
    "}\n"
   ]
  },
  {
   "cell_type": "code",
   "execution_count": null,
   "id": "30904778-347b-4c76-af6c-826c4c6fea95",
   "metadata": {},
   "outputs": [],
   "source": [
    "Enter a number: 153\n",
    "Yes, 153 is an Armstrong number.\n"
   ]
  },
  {
   "cell_type": "code",
   "execution_count": null,
   "id": "fb8a21a7-dca7-416c-ae84-8ec975bd6b91",
   "metadata": {},
   "outputs": [],
   "source": [
    "Input 2 : 134\n",
    "Output2 : No"
   ]
  }
 ],
 "metadata": {
  "kernelspec": {
   "display_name": "Python 3 (ipykernel)",
   "language": "python",
   "name": "python3"
  },
  "language_info": {
   "codemirror_mode": {
    "name": "ipython",
    "version": 3
   },
   "file_extension": ".py",
   "mimetype": "text/x-python",
   "name": "python",
   "nbconvert_exporter": "python",
   "pygments_lexer": "ipython3",
   "version": "3.11.5"
  }
 },
 "nbformat": 4,
 "nbformat_minor": 5
}
